{
 "cells": [
  {
   "cell_type": "markdown",
   "metadata": {},
   "source": [
    "Limpieza de datos"
   ]
  },
  {
   "cell_type": "code",
   "execution_count": 27,
   "metadata": {},
   "outputs": [
    {
     "data": {
      "text/plain": [
       "object_link.connections.comments.message\n",
       "Cobarde                                                                                                                                                                                                                                                                                                                                                                                                                                                                                                                                                                                                                                                                                                                                                                                                                                                                                                                                                                                                                                                 135\n",
       "Abran el cajón                                                                                                                                                                                                                                                                                                                                                                                                                                                                                                                                                                                                                                                                                                                                                                                                                                                                                                                                                                                                                                           68\n",
       "Cortina de humo                                                                                                                                                                                                                                                                                                                                                                                                                                                                                                                                                                                                                                                                                                                                                                                                                                                                                                                                                                                                                                          52\n",
       "Abran el cajon                                                                                                                                                                                                                                                                                                                                                                                                                                                                                                                                                                                                                                                                                                                                                                                                                                                                                                                                                                                                                                           46\n",
       "EL APRA NUNCA MUERE...                                                                                                                                                                                                                                                                                                                                                                                                                                                                                                                                                                                                                                                                                                                                                                                                                                                                                                                                                                                                                                   41\n",
       "                                                                                                                                                                                                                                                                                                                                                                                                                                                                                                                                                                                                                                                                                                                                                                                                                                                                                                                                                                                                                                                       ... \n",
       "Por que en ese cajon no esta swguro alancito esta de vacaciones  en el caribe mas que seguro  ...                                                                                                                                                                                                                                                                                                                                                                                                                                                                                                                                                                                                                                                                                                                                                                                                                                                                                                                                                         1\n",
       "Por que el pueblo Aprista no ve el rostro como \"heroe\", por que tanta privacidad si fue un ejemplo como tal deberían de mostrarlo para sus \"enemigos como el dice \", mentira no está muerto                                                                                                                                                                                                                                                                                                                                                                                                                                                                                                                                                                                                                                                                                                                                                                                                                                                               1\n",
       "POR QUE EL DUELO NACIONAL                                                                                                                                                                                                                                                                                                                                                                                                                                                                                                                                                                                                                                                                                                                                                                                                                                                                                                                                                                                                                                 1\n",
       "Por que el cajón está tapado? \\r\\nQue esconden? \\r\\nEs un hombre del Pueblo y el pueblo quiere verlo \\r\\nNo es justo que impidan verlo por última vez                                                                                                                                                                                                                                                                                                                                                                                                                                                                                                                                                                                                                                                                                                                                                                                                                                                                                                     1\n",
       "– 1985: 69 personas asesinadas en Accomarca.\\r\\n– 1986: Más de 300 personas asesinadas en Lurigancho y El Frontón\\r\\n– 1988: 39 personas asesinadas en Cayara.\\r\\n– 1989: 62 indígenas de Junín, incluyendo niños, ancianos y mujeres fueron asesinados, acusandolos de ser terroristas.\\r\\n– 2006: 2 personas mueren, el primero en una protesta contra la minera Yanacocha y el segundo en una protesta en Abancay\\r\\n– 2007: 9 personas mueren, dos de ellas como consecuencia de un paro del SUTEP, 5 en protestas en Ancash, Apurimac y Lima, y dos de ellas por “error” de las fuerzas del orden.\\r\\n– 2008: 37 personas asesinadas, 3 en Pucallpa, Barranca y Ayacucho. Al menos 34 asesinados por los “Escuadrones de la muerte” de Trujillo.\\r\\n– 2009: 36 muertos. 34 identificados y mas de 120 desaparecidos en el “Baguazo”, 24 policías y 9 nativos. 2 muertos en enfrentamiento en Huancabamba.\\r\\n– 2010: 6 muertos en Chala, por represión estatal frente a mineros artesanales.\\r\\n\\r\\nAlan García: \"Demuestrenlo pues imbéciles\".      1\n",
       "Name: count, Length: 51128, dtype: int64"
      ]
     },
     "execution_count": 27,
     "metadata": {},
     "output_type": "execute_result"
    }
   ],
   "source": [
    "# Importamos la librería pandas para el manejo y análisis de datos\n",
    "import pandas as pd\n",
    "import numpy as np\n",
    "import warnings\n",
    "warnings.filterwarnings('ignore')\n",
    "#db_AGP_2019_sucesos.cvs : Hace referencia al detalle de la publicacion y las personas que comentaron. \n",
    "df_publicaciones = pd.read_csv(\"datasets/db_AGP_2019_sucesos.csv\", sep=\",\")\n",
    "\n",
    "#postID_suceso.cvs                   : Hace referencia al ID de la publicacion y el suceso que hubo.\n",
    "df_sucesos = pd.read_csv(\"datasets/postID_suceso.csv\", sep=\",\")\n",
    "df_publicaciones[\"object_link.connections.comments.message\"].value_counts()"
   ]
  },
  {
   "cell_type": "code",
   "execution_count": 28,
   "metadata": {},
   "outputs": [],
   "source": [
    "# Suponiendo que tu DataFrame se llama df y la columna es 'FECHA Y HORA'\n",
    "df_publicaciones['FECHA'] = df_publicaciones['FECHA Y HORA'].apply(lambda x: x.split()[0])\n",
    "df_publicaciones['HORA'] = df_publicaciones['created_time.2'].apply(lambda x: x.split()[1])\n",
    "df_publicaciones = df_publicaciones.drop(['created_time.1','created_time.2','FECHA Y HORA'], axis=1)"
   ]
  },
  {
   "cell_type": "code",
   "execution_count": 29,
   "metadata": {},
   "outputs": [
    {
     "data": {
      "text/html": [
       "<div>\n",
       "<style scoped>\n",
       "    .dataframe tbody tr th:only-of-type {\n",
       "        vertical-align: middle;\n",
       "    }\n",
       "\n",
       "    .dataframe tbody tr th {\n",
       "        vertical-align: top;\n",
       "    }\n",
       "\n",
       "    .dataframe thead th {\n",
       "        text-align: right;\n",
       "    }\n",
       "</style>\n",
       "<table border=\"1\" class=\"dataframe\">\n",
       "  <thead>\n",
       "    <tr style=\"text-align: right;\">\n",
       "      <th></th>\n",
       "      <th>message</th>\n",
       "      <th>id</th>\n",
       "      <th>object_link.connections.comments.message</th>\n",
       "      <th>FECHA</th>\n",
       "      <th>HORA</th>\n",
       "    </tr>\n",
       "  </thead>\n",
       "  <tbody>\n",
       "    <tr>\n",
       "      <th>0</th>\n",
       "      <td>Velorio del ex presidente Alan García en la Ca...</td>\n",
       "      <td>71263708835_377868469727477</td>\n",
       "      <td>🧐🧐</td>\n",
       "      <td>19/04/2019</td>\n",
       "      <td>09:16:15</td>\n",
       "    </tr>\n",
       "    <tr>\n",
       "      <th>1</th>\n",
       "      <td>Exequias del ex presidente Alan García en \"La ...</td>\n",
       "      <td>71263708835_276236269920595</td>\n",
       "      <td>🥺🥺🥺🥺🥺🥺🥺🥺</td>\n",
       "      <td>18/04/2019</td>\n",
       "      <td>20:57:16</td>\n",
       "    </tr>\n",
       "    <tr>\n",
       "      <th>2</th>\n",
       "      <td>🚨 Estamos en los exteriores del Hospital de Em...</td>\n",
       "      <td>71263708835_310239669653341</td>\n",
       "      <td>🥳</td>\n",
       "      <td>17/04/2019</td>\n",
       "      <td>07:37:30</td>\n",
       "    </tr>\n",
       "    <tr>\n",
       "      <th>3</th>\n",
       "      <td>Velorio del ex presidente Alan García en la Ca...</td>\n",
       "      <td>71263708835_377868469727477</td>\n",
       "      <td>🤷‍♀️🤷‍♀️🤷‍♀️</td>\n",
       "      <td>19/04/2019</td>\n",
       "      <td>09:16:15</td>\n",
       "    </tr>\n",
       "    <tr>\n",
       "      <th>4</th>\n",
       "      <td>Velorio del ex presidente Alan García en la Ca...</td>\n",
       "      <td>71263708835_377868469727477</td>\n",
       "      <td>🤯🤯🤯🤯</td>\n",
       "      <td>19/04/2019</td>\n",
       "      <td>09:16:15</td>\n",
       "    </tr>\n",
       "  </tbody>\n",
       "</table>\n",
       "</div>"
      ],
      "text/plain": [
       "                                             message  \\\n",
       "0  Velorio del ex presidente Alan García en la Ca...   \n",
       "1  Exequias del ex presidente Alan García en \"La ...   \n",
       "2  🚨 Estamos en los exteriores del Hospital de Em...   \n",
       "3  Velorio del ex presidente Alan García en la Ca...   \n",
       "4  Velorio del ex presidente Alan García en la Ca...   \n",
       "\n",
       "                            id object_link.connections.comments.message  \\\n",
       "0  71263708835_377868469727477                                       🧐🧐   \n",
       "1  71263708835_276236269920595                                 🥺🥺🥺🥺🥺🥺🥺🥺   \n",
       "2  71263708835_310239669653341                                        🥳   \n",
       "3  71263708835_377868469727477                             🤷‍♀️🤷‍♀️🤷‍♀️   \n",
       "4  71263708835_377868469727477                                     🤯🤯🤯🤯   \n",
       "\n",
       "        FECHA      HORA  \n",
       "0  19/04/2019  09:16:15  \n",
       "1  18/04/2019  20:57:16  \n",
       "2  17/04/2019  07:37:30  \n",
       "3  19/04/2019  09:16:15  \n",
       "4  19/04/2019  09:16:15  "
      ]
     },
     "execution_count": 29,
     "metadata": {},
     "output_type": "execute_result"
    }
   ],
   "source": [
    "df_publicaciones.head()"
   ]
  },
  {
   "cell_type": "code",
   "execution_count": 30,
   "metadata": {},
   "outputs": [
    {
     "data": {
      "text/plain": [
       "0"
      ]
     },
     "execution_count": 30,
     "metadata": {},
     "output_type": "execute_result"
    }
   ],
   "source": [
    "#Veamos los nulos y duplicados\n",
    "df_publicaciones.isna().sum()#no hay nulos ni duplicados en la tabla de Publicaciones\n",
    "df_publicaciones.duplicated().sum()\n",
    "df_sucesos.isna().sum()#no hay nulos ni dulicados en la tabla de Sucesos\n",
    "df_sucesos.duplicated().sum()"
   ]
  },
  {
   "cell_type": "code",
   "execution_count": 31,
   "metadata": {},
   "outputs": [],
   "source": [
    "#estandarizacion de la nomencaltura de los encabezados de los dos dataframes\n",
    "df_publicaciones = df_publicaciones.rename(columns={\n",
    "    'message': 'Publicacion',\n",
    "    'id': 'Id_posteo',\n",
    "    'object_link.connections.comments.message': 'Comentario',\n",
    "    'FECHA': 'Fecha',\n",
    "    'HORA': 'Hora'\n",
    "})\n",
    "\n",
    "df_sucesos = df_sucesos.rename(columns={\n",
    "    'POST NRO': 'Id_posteo',\n",
    "    'SUCESO': 'Suceso'\n",
    "})"
   ]
  },
  {
   "cell_type": "code",
   "execution_count": 32,
   "metadata": {},
   "outputs": [
    {
     "name": "stdout",
     "output_type": "stream",
     "text": [
      "Publicacion    string[python]\n",
      "Id_posteo      string[python]\n",
      "Comentario     string[python]\n",
      "Fecha          datetime64[ns]\n",
      "Hora                   object\n",
      "dtype: object\n",
      "Id_posteo    string[python]\n",
      "Suceso       string[python]\n",
      "dtype: object\n"
     ]
    },
    {
     "data": {
      "text/plain": [
       "Suceso\n",
       "Confirmación de Muerte                 28\n",
       "Velatorio Casa del Pueblo              22\n",
       "Lectura de Carta de AG                 11\n",
       "Ataud Sale del local APRA              11\n",
       "Portadas del día                        9\n",
       "Confirmación de Intento de Suicidio     5\n",
       "Traslado a la Clinica                   1\n",
       "Name: count, dtype: Int64"
      ]
     },
     "execution_count": 32,
     "metadata": {},
     "output_type": "execute_result"
    }
   ],
   "source": [
    "#tipo de datos a cada campo de los dfs\n",
    "df_publicaciones = df_publicaciones.rename(columns={\n",
    "    'message': 'Publicacion',\n",
    "    'id': 'Id_posteo',\n",
    "    'object_link.connections.comments.message': 'Comentario',\n",
    "    'FECHA': 'Fecha',\n",
    "    'HORA': 'Hora'\n",
    "})\n",
    "\n",
    "# Asegurar que las columnas de texto sean de tipo string\n",
    "df_publicaciones[\"Publicacion\"] = df_publicaciones[\"Publicacion\"].astype(\"string\")\n",
    "df_publicaciones[\"Id_posteo\"] = df_publicaciones[\"Id_posteo\"].astype(\"string\")\n",
    "df_publicaciones[\"Comentario\"] = df_publicaciones[\"Comentario\"].astype(\"string\")\n",
    "\n",
    "# Convertir Fecha y Hora\n",
    "df_publicaciones[\"Fecha\"] = pd.to_datetime(df_publicaciones[\"Fecha\"], dayfirst=True, errors=\"coerce\")  # Maneja valores no convertibles con NaT\n",
    "df_publicaciones[\"Hora\"] = pd.to_datetime(df_publicaciones[\"Hora\"], format=\"%H:%M:%S\", errors=\"coerce\").dt.time  # Extrae la parte de hora\n",
    "\n",
    "# Verificar los tipos de datos\n",
    "print(df_publicaciones.dtypes)\n",
    "# print(type(df[\"Hora\"].iloc[0]))\n",
    "df_sucesos[\"Id_posteo\"] = df_sucesos[\"Id_posteo\"].astype(\"string\")\n",
    "df_sucesos[\"Suceso\"] = df_sucesos[\"Suceso\"].astype(\"string\")\n",
    "\n",
    "print(df_sucesos.dtypes)\n",
    "df_sucesos.Suceso.value_counts()"
   ]
  },
  {
   "cell_type": "code",
   "execution_count": 33,
   "metadata": {},
   "outputs": [
    {
     "data": {
      "text/plain": [
       "Comentario\n",
       "Cobarde                                                                                                                                                                                                                                                                                                                                                                                                                                                                                                                                                                                                                                                                                                                                                                                                                                                                                                                                                                                                                             135\n",
       "Abran el cajón                                                                                                                                                                                                                                                                                                                                                                                                                                                                                                                                                                                                                                                                                                                                                                                                                                                                                                                                                                                                                       68\n",
       "Cortina de humo                                                                                                                                                                                                                                                                                                                                                                                                                                                                                                                                                                                                                                                                                                                                                                                                                                                                                                                                                                                                                      52\n",
       "Abran el cajon                                                                                                                                                                                                                                                                                                                                                                                                                                                                                                                                                                                                                                                                                                                                                                                                                                                                                                                                                                                                                       46\n",
       "EL APRA NUNCA MUERE...                                                                                                                                                                                                                                                                                                                                                                                                                                                                                                                                                                                                                                                                                                                                                                                                                                                                                                                                                                                                               41\n",
       "                                                                                                                                                                                                                                                                                                                                                                                                                                                                                                                                                                                                                                                                                                                                                                                                                                                                                                                                                                                                                                   ... \n",
       "“La plata llega sola”\n",
       "Hasta muerto llego sola!!                                                                                                                                                                                                                                                                                                                                                                                                                                                                                                                                                                                                                                                                                                                                                                                                                                                                                                                                                                                      1\n",
       "“He visto a otros desfilar esposados guardando su miserable existencia, pero Alan García no tiene por qué sufrir esas injusticias y circos”... la dignidad es de quien la defiende ante la justicia, no quien huye de ella, ese es el verdadero miserable                                                                                                                                                                                                                                                                                                                                                                                                                                                                                                                                                                                                                                                                                                                                                                             1\n",
       "“Escucha IDL, el APRA nunca muere” jajajajaja                                                                                                                                                                                                                                                                                                                                                                                                                                                                                                                                                                                                                                                                                                                                                                                                                                                                                                                                                                                         1\n",
       "“El suicida debía dilucidar si su vida era digna o no de ser vivida. Y yo creo que Alan García comprendió que su vida, ayer 17 de abril por la mañana, ya no era digna de ser vivida. O que su vida vivida malamente en un calabozo peruano era una indignidad que él no quería permitirse a sí mismo. Creo que en parte, por eso se ha matado”, \n",
       "Totalmente de acuerdo con este comentario del sr. Jaime B.                                                                                                                                                                                                                                                                                                                                                                                                                                                                                                                                                                                                                         1\n",
       "– 1985: 69 personas asesinadas en Accomarca.\n",
       "– 1986: Más de 300 personas asesinadas en Lurigancho y El Frontón\n",
       "– 1988: 39 personas asesinadas en Cayara.\n",
       "– 1989: 62 indígenas de Junín, incluyendo niños, ancianos y mujeres fueron asesinados, acusandolos de ser terroristas.\n",
       "– 2006: 2 personas mueren, el primero en una protesta contra la minera Yanacocha y el segundo en una protesta en Abancay\n",
       "– 2007: 9 personas mueren, dos de ellas como consecuencia de un paro del SUTEP, 5 en protestas en Ancash, Apurimac y Lima, y dos de ellas por “error” de las fuerzas del orden.\n",
       "– 2008: 37 personas asesinadas, 3 en Pucallpa, Barranca y Ayacucho. Al menos 34 asesinados por los “Escuadrones de la muerte” de Trujillo.\n",
       "– 2009: 36 muertos. 34 identificados y mas de 120 desaparecidos en el “Baguazo”, 24 policías y 9 nativos. 2 muertos en enfrentamiento en Huancabamba.\n",
       "– 2010: 6 muertos en Chala, por represión estatal frente a mineros artesanales.\n",
       "\n",
       "Alan García: \"Demuestrenlo pues imbéciles\".      1\n",
       "Name: count, Length: 51128, dtype: Int64"
      ]
     },
     "execution_count": 33,
     "metadata": {},
     "output_type": "execute_result"
    }
   ],
   "source": [
    "# Veamos como esta distribuido la frecuencia de palabras de los comentarios\n",
    "df_publicaciones.Comentario.value_counts()"
   ]
  },
  {
   "cell_type": "markdown",
   "metadata": {},
   "source": [
    "Se visualiza que los comentarios están en mayúsculas y minusculas, además que muchos cuentan con emojis, etiquetas y tildes. El siguiente pase es normalizar esta data.\n",
    "\n",
    "3) Normalización"
   ]
  },
  {
   "cell_type": "code",
   "execution_count": 34,
   "metadata": {},
   "outputs": [
    {
     "name": "stderr",
     "output_type": "stream",
     "text": [
      "[nltk_data] Downloading package stopwords to\n",
      "[nltk_data]     C:\\Users\\eliza\\AppData\\Roaming\\nltk_data...\n",
      "[nltk_data]   Package stopwords is already up-to-date!\n"
     ]
    }
   ],
   "source": [
    "# Importamos las librerias necesaria para la normalización de los comentarios\n",
    "import re\n",
    "import nltk\n",
    "from nltk.corpus import stopwords # Libreria que nos ayudara a limpiar palabras conocidas como stopwords\n",
    "import unicodedata\n",
    "nltk.download('stopwords')\n",
    "stop_words = set(stopwords.words('spanish'))"
   ]
  },
  {
   "cell_type": "code",
   "execution_count": 35,
   "metadata": {},
   "outputs": [
    {
     "name": "stdout",
     "output_type": "stream",
     "text": [
      "Comentario_limpio\n",
      "Cobarde                   135\n",
      "Abran el cajon            115\n",
      "Cortina de humo            52\n",
      "Esta vivo                  47\n",
      "EL APRA NUNCA MUERE...     41\n",
      "Name: count, dtype: int64\n"
     ]
    }
   ],
   "source": [
    "# Creamos una función para primero eliminar acentos o tildes\n",
    "def remover_acentos(text):\n",
    "    text = unicodedata.normalize('NFKD', text)\n",
    "    return ''.join([c for c in text if not unicodedata.combining(c)])\n",
    "\n",
    "# Aplicar al texto limpio\n",
    "df_publicaciones['Comentario_limpio'] = df_publicaciones['Comentario'].apply(remover_acentos)\n",
    "\n",
    "# Visualizamos el resultado\n",
    "print(df_publicaciones.Comentario_limpio.value_counts().head())"
   ]
  },
  {
   "cell_type": "code",
   "execution_count": 36,
   "metadata": {},
   "outputs": [],
   "source": [
    "# Ahora creamos una función para normalizar los comentarios:\n",
    "def clean_text(text):\n",
    "    # Convertir a string y minúsculas\n",
    "    text = str(text).lower()\n",
    "    # Eliminamos URLs\n",
    "    text = re.sub(r'http\\S+|www\\S+|https\\S+', '', text, flags=re.MULTILINE) \n",
    "    # http\\S+: Busca cadenas que comiencen con http seguido de uno \n",
    "    # o más caracteres que no sean espacios (\\S significa \"no espacio\",\n",
    "    # y + indica \"uno o más\").\n",
    "    \n",
    "    # Eliminamos menciones (@usuario) y hashtags\n",
    "    text = re.sub(r'@\\w+|#\\w+', '', text)\n",
    "    # Eliminamos caracteres especiales y números\n",
    "    text = re.sub(r'[^A-Za-záéíóúñü\\s]', '', text)\n",
    "    # Tokenizamos el texto y eliminamos stopwords\n",
    "    words = text.split()\n",
    "    filtered_words = [word for word in words if word not in stop_words]\n",
    "    # Reconstruimos el texto limpio\n",
    "    cleaned_text = ' '.join(filtered_words)\n",
    "\n",
    "    return cleaned_text"
   ]
  },
  {
   "cell_type": "code",
   "execution_count": 37,
   "metadata": {},
   "outputs": [
    {
     "data": {
      "text/plain": [
       "Comentario_limpio\n",
       "                                                                                                                                                                                                                                                                                                                                                                                                                                                                                                                                                                                                                                                                                 740\n",
       "cobarde                                                                                                                                                                                                                                                                                                                                                                                                                                                                                                                                                                                                                                                                          238\n",
       "abran cajon                                                                                                                                                                                                                                                                                                                                                                                                                                                                                                                                                                                                                                                                      221\n",
       "apra nunca muere                                                                                                                                                                                                                                                                                                                                                                                                                                                                                                                                                                                                                                                                 104\n",
       "habran cajon                                                                                                                                                                                                                                                                                                                                                                                                                                                                                                                                                                                                                                                                      94\n",
       "                                                                                                                                                                                                                                                                                                                                                                                                                                                                                                                                                                                                                                                                                ... \n",
       "mas cosas hecho bien mal creo momentos debe haber respeto toda familia dejen hablar tanta estupidez cortez quita valiente ve uds reina educacion respeto bien dicen titulo universitario hace educado veo hablan cosas inapropiadas momentos                                                                                                                                                                                                                                                                                                                                                                                                                                       1\n",
       "mamones apristas apoyan corrupcion mientras q lider feliz murio farsa                                                                                                                                                                                                                                                                                                                                                                                                                                                                                                                                                                                                              1\n",
       "malos corazon deverian irse junto                                                                                                                                                                                                                                                                                                                                                                                                                                                                                                                                                                                                                                                  1\n",
       "q visto ahora convence w                                                                                                                                                                                                                                                                                                                                                                                                                                                                                                                                                                                                                                                           1\n",
       "personas asesinadas accomarca mas personas asesinadas lurigancho fronton personas asesinadas cayara indigenas junin incluyendo ninos ancianos mujeres asesinados acusandolos ser terroristas personas mueren primero protesta minera yanacocha segundo protesta abancay personas mueren dos consecuencia paro sutep protestas ancash apurimac lima dos error fuerzas orden personas asesinadas pucallpa barranca ayacucho menos asesinados escuadrones muerte trujillo muertos identificados mas desaparecidos baguazo policias nativos muertos enfrentamiento huancabamba muertos chala represion estatal frente mineros artesanales alan garcia demuestrenlo pues imbeciles      1\n",
       "Name: count, Length: 47898, dtype: int64"
      ]
     },
     "execution_count": 37,
     "metadata": {},
     "output_type": "execute_result"
    }
   ],
   "source": [
    "# Aplicamos la función a nuestro dataset\n",
    "df_publicaciones['Comentario_limpio'] = df_publicaciones['Comentario_limpio'].apply(clean_text)\n",
    "# Visualizamos el resultado\n",
    "df_publicaciones['Comentario_limpio'].value_counts()"
   ]
  },
  {
   "cell_type": "code",
   "execution_count": 38,
   "metadata": {},
   "outputs": [],
   "source": [
    "# Diccionario de palabras mal escritas o similares y sus correcciones\n",
    "replacement_dict = {\n",
    "    \"habran\": \"abran\",\n",
    "    \"ataud\": \"cajon\",\n",
    "    'atau':'cajon',\n",
    "    'abren':'abran',\n",
    "    'caja': 'cajon',\n",
    "    'muerte': 'muerto',\n",
    "    'fallecio':'muerto',\n",
    "    'murio':'muerto',\n",
    "    'muera':'muerto',\n",
    "    'farsa':'falso',\n",
    "    'falsa':'falso',\n",
    "    'FALSO':'falso',\n",
    "    'aprietas': 'apristas',\n",
    "    'feretro':'cajon',\n",
    "    'cajonnnn':'cajon',\n",
    "    'canjon': 'cajon',\n",
    "    'ver':'verlo',\n",
    "    'verlooooooooo':'verlo',\n",
    "    'vea':'verlo',\n",
    "    'vio':'verlo',\n",
    "    'cobardia':'cobarde',\n",
    "    'vean':'verlo',\n",
    "    'veran':'verlo',\n",
    "    'cadaver':'cuerpo',\n",
    "    'fuga':'fugo',\n",
    "    'escapo':'fugo',\n",
    "    'fugar':'fugo',\n",
    "    'escapa':'fugo',\n",
    "    'morir':'muerto',\n",
    "    'cara':'rostro',\n",
    "    'mostralo':'mostrarlo',\n",
    "    'ataudque':'cajon',\n",
    "    'fugan':'fugo',\n",
    "    'aban':'abran',\n",
    "    'abarn':'abran',\n",
    "    'abiero':'abran',\n",
    "    'ablan':'abran',\n",
    "    'cagon':'cajon',\n",
    "    'abre':'abran',\n",
    "    'corruptos':'corrupto'\n",
    "}\n",
    "\n",
    "# Creamos una función para reemplazar las palabras seleccionadas\n",
    "def replace_words(text, replacements):\n",
    "    words = text.split()\n",
    "    corrected_words = [replacements.get(word, word) for word in words]\n",
    "    return \" \".join(corrected_words)\n",
    "\n",
    "# Aplicamos el texto normalizado\n",
    "df_publicaciones['Comentario_limpio'] = df_publicaciones['Comentario_limpio'].apply(lambda x: replace_words(x, replacement_dict))"
   ]
  },
  {
   "cell_type": "code",
   "execution_count": 39,
   "metadata": {},
   "outputs": [
    {
     "name": "stdout",
     "output_type": "stream",
     "text": [
      "Comentario_limpio\n",
      "                                                                                                                                                                                                                                                                                                                                                                                                                                                                                                                                                                                                                                                                                 740\n",
      "abran cajon                                                                                                                                                                                                                                                                                                                                                                                                                                                                                                                                                                                                                                                                      454\n",
      "cobarde                                                                                                                                                                                                                                                                                                                                                                                                                                                                                                                                                                                                                                                                          247\n",
      "muerto                                                                                                                                                                                                                                                                                                                                                                                                                                                                                                                                                                                                                                                                           160\n",
      "falso                                                                                                                                                                                                                                                                                                                                                                                                                                                                                                                                                                                                                                                                            114\n",
      "                                                                                                                                                                                                                                                                                                                                                                                                                                                                                                                                                                                                                                                                                ... \n",
      "ve toda maquinaria puso movimiento individuo garcia preparando dar ultima noticia si asi pueblo debe exigir examenes dna organismo internacional saber realmente                                                                                                                                                                                                                                                                                                                                                                                                                                                                                                                   1\n",
      "recordare tipo gran orador habilidad envidiable resto persona politico deja desear                                                                                                                                                                                                                                                                                                                                                                                                                                                                                                                                                                                                 1\n",
      "ocultan                                                                                                                                                                                                                                                                                                                                                                                                                                                                                                                                                                                                                                                                            1\n",
      "menos estan mas alla amado alan                                                                                                                                                                                                                                                                                                                                                                                                                                                                                                                                                                                                                                                    1\n",
      "personas asesinadas accomarca mas personas asesinadas lurigancho fronton personas asesinadas cayara indigenas junin incluyendo ninos ancianos mujeres asesinados acusandolos ser terroristas personas mueren primero protesta minera yanacocha segundo protesta abancay personas mueren dos consecuencia paro sutep protestas ancash apurimac lima dos error fuerzas orden personas asesinadas pucallpa barranca ayacucho menos asesinados escuadrones muerto trujillo muertos identificados mas desaparecidos baguazo policias nativos muertos enfrentamiento huancabamba muertos chala represion estatal frente mineros artesanales alan garcia demuestrenlo pues imbeciles      1\n",
      "Name: count, Length: 47643, dtype: int64\n"
     ]
    }
   ],
   "source": [
    "# Visualizamos el resultado\n",
    "print(df_publicaciones['Comentario_limpio'].value_counts())"
   ]
  },
  {
   "cell_type": "code",
   "execution_count": 40,
   "metadata": {},
   "outputs": [],
   "source": [
    "# Reemplazar espacios en blanco por NaN\n",
    "df_publicaciones.replace(r'^\\s*$', np.nan, regex=True, inplace=True)"
   ]
  },
  {
   "cell_type": "code",
   "execution_count": 41,
   "metadata": {},
   "outputs": [],
   "source": [
    "# Eliminamos los valores que quedaron nulos\n",
    "df_publicaciones.dropna(inplace=True)"
   ]
  },
  {
   "cell_type": "code",
   "execution_count": 42,
   "metadata": {},
   "outputs": [],
   "source": [
    "def normalize_abran(text):\n",
    "    # Patrón para identificar palabras similares a \"abran\"\n",
    "    pattern = r'\\babran\\w*'\n",
    "    # Reemplazar todas las coincidencias con \"abran\"\n",
    "    normalized_text = re.sub(pattern, 'abran', text, flags=re.IGNORECASE)\n",
    "    return normalized_text\n",
    "df_publicaciones['Comentario_limpio'] = df_publicaciones['Comentario_limpio'].apply(normalize_abran)"
   ]
  },
  {
   "cell_type": "code",
   "execution_count": 43,
   "metadata": {},
   "outputs": [
    {
     "data": {
      "text/plain": [
       "Comentario_limpio\n",
       "abran cajon                                                                                                                                                                                                                                                                                                                                                                                                                                                                                                                                                                                                                                                                                                                                                                                                                                                                                                                                                                                                                                                                         458\n",
       "cobarde                                                                                                                                                                                                                                                                                                                                                                                                                                                                                                                                                                                                                                                                                                                                                                                                                                                                                                                                                                                                                                                                             247\n",
       "muerto                                                                                                                                                                                                                                                                                                                                                                                                                                                                                                                                                                                                                                                                                                                                                                                                                                                                                                                                                                                                                                                                              160\n",
       "falso                                                                                                                                                                                                                                                                                                                                                                                                                                                                                                                                                                                                                                                                                                                                                                                                                                                                                                                                                                                                                                                                               114\n",
       "apra nunca muere                                                                                                                                                                                                                                                                                                                                                                                                                                                                                                                                                                                                                                                                                                                                                                                                                                                                                                                                                                                                                                                                    104\n",
       "cortina humo                                                                                                                                                                                                                                                                                                                                                                                                                                                                                                                                                                                                                                                                                                                                                                                                                                                                                                                                                                                                                                                                         90\n",
       "vivo                                                                                                                                                                                                                                                                                                                                                                                                                                                                                                                                                                                                                                                                                                                                                                                                                                                                                                                                                                                                                                                                                 66\n",
       "fugo                                                                                                                                                                                                                                                                                                                                                                                                                                                                                                                                                                                                                                                                                                                                                                                                                                                                                                                                                                                                                                                                                 61\n",
       "verlo creer                                                                                                                                                                                                                                                                                                                                                                                                                                                                                                                                                                                                                                                                                                                                                                                                                                                                                                                                                                                                                                                                          49\n",
       "muchas incoherencias llega disque fiscal am realizar allanamiento cinta celeste obligatoria diligencias alan pregunta haran fiscal pone nervioso sabe dar explicaciones dispara ningun periodista afuera escucho disparo luego trasladan camioneta x lunas polarizadas emergencia hospital casimiro ulloa pudiendo llevar clinica nadie verlo dentro camioneta hospital ningun periodista grabo entrando hospital rastro sangre ingreso piso camioneta asi observo varios medios television sabemos si disparas cabeza sangras demasiado sale ministra dos medicos totalmente nerviosos balbuceando diciendo diciendo verdad periodista mas incisiva ministra interrumpe explica luego suspender diligencia hospital da abogado certificado fallecimiento sello hospital llevo morgue malograr armani twitter martin vizcarra digitada dos horas anunciaran fallecimiento alan garcia colmo camioneta alan trasladaron sigue transitando si pasado supongo empapado sangre acaban enfocar latina sorprendidos posieron dos carrosas dos feretros proposito feliz vacaciones alan     47\n",
       "Name: count, dtype: int64"
      ]
     },
     "execution_count": 43,
     "metadata": {},
     "output_type": "execute_result"
    }
   ],
   "source": [
    "df_publicaciones['Comentario_limpio'].value_counts().head(10)"
   ]
  },
  {
   "cell_type": "code",
   "execution_count": 44,
   "metadata": {},
   "outputs": [
    {
     "name": "stdout",
     "output_type": "stream",
     "text": [
      "<class 'pandas.core.frame.DataFrame'>\n",
      "Index: 54266 entries, 20 to 55005\n",
      "Data columns (total 6 columns):\n",
      " #   Column             Non-Null Count  Dtype         \n",
      "---  ------             --------------  -----         \n",
      " 0   Publicacion        54266 non-null  string        \n",
      " 1   Id_posteo          54266 non-null  string        \n",
      " 2   Comentario         54266 non-null  string        \n",
      " 3   Fecha              54266 non-null  datetime64[ns]\n",
      " 4   Hora               54266 non-null  object        \n",
      " 5   Comentario_limpio  54266 non-null  object        \n",
      "dtypes: datetime64[ns](1), object(2), string(3)\n",
      "memory usage: 2.9+ MB\n"
     ]
    }
   ],
   "source": [
    "# Volvemos a revisar que no haya valores nulos\n",
    "df_publicaciones.info()"
   ]
  },
  {
   "cell_type": "code",
   "execution_count": 45,
   "metadata": {},
   "outputs": [
    {
     "data": {
      "text/html": [
       "<div>\n",
       "<style scoped>\n",
       "    .dataframe tbody tr th:only-of-type {\n",
       "        vertical-align: middle;\n",
       "    }\n",
       "\n",
       "    .dataframe tbody tr th {\n",
       "        vertical-align: top;\n",
       "    }\n",
       "\n",
       "    .dataframe thead th {\n",
       "        text-align: right;\n",
       "    }\n",
       "</style>\n",
       "<table border=\"1\" class=\"dataframe\">\n",
       "  <thead>\n",
       "    <tr style=\"text-align: right;\">\n",
       "      <th></th>\n",
       "      <th>Publicacion</th>\n",
       "      <th>Id_posteo</th>\n",
       "      <th>Comentario</th>\n",
       "      <th>Fecha</th>\n",
       "      <th>Hora</th>\n",
       "      <th>Comentario_limpio</th>\n",
       "    </tr>\n",
       "  </thead>\n",
       "  <tbody>\n",
       "    <tr>\n",
       "      <th>20</th>\n",
       "      <td>El congresista aprista Jorge del Castillo seña...</td>\n",
       "      <td>71263708835_10157690605563836</td>\n",
       "      <td>🤭🤭🤭🤭 Estoy trabajando ese señor no me Pagará p...</td>\n",
       "      <td>2019-04-17</td>\n",
       "      <td>16:21:20</td>\n",
       "      <td>trabajando senor pagara hacer duelo</td>\n",
       "    </tr>\n",
       "    <tr>\n",
       "      <th>24</th>\n",
       "      <td>Velorio del ex presidente Alan García en la Ca...</td>\n",
       "      <td>71263708835_377868469727477</td>\n",
       "      <td>🤨🤨🤨🤨.....mmmmmm</td>\n",
       "      <td>2019-04-19</td>\n",
       "      <td>09:16:15</td>\n",
       "      <td>mmmmmm</td>\n",
       "    </tr>\n",
       "    <tr>\n",
       "      <th>29</th>\n",
       "      <td>🔴 #AHORA | El ex mandatario Ollanta Humala lle...</td>\n",
       "      <td>71263708835_10157694133878836</td>\n",
       "      <td>🤦🏻‍♂️🤦🏻‍♂️🤦🏻‍♂️🤦🏻‍♂️🤦🏻‍♂️ aprietas de mierda</td>\n",
       "      <td>2019-04-18</td>\n",
       "      <td>17:22:20</td>\n",
       "      <td>apristas mierda</td>\n",
       "    </tr>\n",
       "    <tr>\n",
       "      <th>31</th>\n",
       "      <td>EN VIVO | Así se desarrolla el velatorio del e...</td>\n",
       "      <td>71263708835_1509825649150231</td>\n",
       "      <td>🤦🏻‍♀️🤦🏻‍♀️🤦🏻‍♀️ realmente un circo</td>\n",
       "      <td>2019-04-18</td>\n",
       "      <td>10:36:35</td>\n",
       "      <td>realmente circo</td>\n",
       "    </tr>\n",
       "    <tr>\n",
       "      <th>35</th>\n",
       "      <td>Decenas de simpatizantes del Partido Aprista, ...</td>\n",
       "      <td>71263708835_10157691315508836</td>\n",
       "      <td>🤦‍♂️ Parfavar....... Que gente más figureti. S...</td>\n",
       "      <td>2019-04-18</td>\n",
       "      <td>19:12:45</td>\n",
       "      <td>parfavar gente mas figureti si extranaran sera...</td>\n",
       "    </tr>\n",
       "  </tbody>\n",
       "</table>\n",
       "</div>"
      ],
      "text/plain": [
       "                                          Publicacion  \\\n",
       "20  El congresista aprista Jorge del Castillo seña...   \n",
       "24  Velorio del ex presidente Alan García en la Ca...   \n",
       "29  🔴 #AHORA | El ex mandatario Ollanta Humala lle...   \n",
       "31  EN VIVO | Así se desarrolla el velatorio del e...   \n",
       "35  Decenas de simpatizantes del Partido Aprista, ...   \n",
       "\n",
       "                        Id_posteo  \\\n",
       "20  71263708835_10157690605563836   \n",
       "24    71263708835_377868469727477   \n",
       "29  71263708835_10157694133878836   \n",
       "31   71263708835_1509825649150231   \n",
       "35  71263708835_10157691315508836   \n",
       "\n",
       "                                           Comentario      Fecha      Hora  \\\n",
       "20  🤭🤭🤭🤭 Estoy trabajando ese señor no me Pagará p... 2019-04-17  16:21:20   \n",
       "24                                    🤨🤨🤨🤨.....mmmmmm 2019-04-19  09:16:15   \n",
       "29       🤦🏻‍♂️🤦🏻‍♂️🤦🏻‍♂️🤦🏻‍♂️🤦🏻‍♂️ aprietas de mierda 2019-04-18  17:22:20   \n",
       "31                 🤦🏻‍♀️🤦🏻‍♀️🤦🏻‍♀️ realmente un circo 2019-04-18  10:36:35   \n",
       "35  🤦‍♂️ Parfavar....... Que gente más figureti. S... 2019-04-18  19:12:45   \n",
       "\n",
       "                                    Comentario_limpio  \n",
       "20                trabajando senor pagara hacer duelo  \n",
       "24                                             mmmmmm  \n",
       "29                                    apristas mierda  \n",
       "31                                    realmente circo  \n",
       "35  parfavar gente mas figureti si extranaran sera...  "
      ]
     },
     "execution_count": 45,
     "metadata": {},
     "output_type": "execute_result"
    }
   ],
   "source": [
    "# Vemos como va quedando el dataset\n",
    "df_publicaciones.head()"
   ]
  },
  {
   "cell_type": "markdown",
   "metadata": {},
   "source": [
    "4) Creamos nuestro modelo de análisis de sentimientos"
   ]
  },
  {
   "cell_type": "code",
   "execution_count": 46,
   "metadata": {},
   "outputs": [
    {
     "name": "stdout",
     "output_type": "stream",
     "text": [
      "Requirement already satisfied: vaderSentiment in c:\\users\\eliza\\appdata\\local\\packages\\pythonsoftwarefoundation.python.3.11_qbz5n2kfra8p0\\localcache\\local-packages\\python311\\site-packages (3.3.2)\n",
      "Requirement already satisfied: requests in c:\\users\\eliza\\appdata\\local\\packages\\pythonsoftwarefoundation.python.3.11_qbz5n2kfra8p0\\localcache\\local-packages\\python311\\site-packages (from vaderSentiment) (2.32.3)\n",
      "Requirement already satisfied: charset-normalizer<4,>=2 in c:\\users\\eliza\\appdata\\local\\packages\\pythonsoftwarefoundation.python.3.11_qbz5n2kfra8p0\\localcache\\local-packages\\python311\\site-packages (from requests->vaderSentiment) (3.4.0)\n",
      "Requirement already satisfied: idna<4,>=2.5 in c:\\users\\eliza\\appdata\\local\\packages\\pythonsoftwarefoundation.python.3.11_qbz5n2kfra8p0\\localcache\\local-packages\\python311\\site-packages (from requests->vaderSentiment) (3.10)\n",
      "Requirement already satisfied: urllib3<3,>=1.21.1 in c:\\users\\eliza\\appdata\\local\\packages\\pythonsoftwarefoundation.python.3.11_qbz5n2kfra8p0\\localcache\\local-packages\\python311\\site-packages (from requests->vaderSentiment) (2.2.3)\n",
      "Requirement already satisfied: certifi>=2017.4.17 in c:\\users\\eliza\\appdata\\local\\packages\\pythonsoftwarefoundation.python.3.11_qbz5n2kfra8p0\\localcache\\local-packages\\python311\\site-packages (from requests->vaderSentiment) (2024.8.30)\n"
     ]
    },
    {
     "name": "stderr",
     "output_type": "stream",
     "text": [
      "\n",
      "[notice] A new release of pip is available: 24.0 -> 24.3.1\n",
      "[notice] To update, run: C:\\Users\\eliza\\AppData\\Local\\Microsoft\\WindowsApps\\PythonSoftwareFoundation.Python.3.11_qbz5n2kfra8p0\\python.exe -m pip install --upgrade pip\n"
     ]
    }
   ],
   "source": [
    "!pip install vaderSentiment"
   ]
  },
  {
   "cell_type": "code",
   "execution_count": 47,
   "metadata": {},
   "outputs": [],
   "source": [
    "#Realizamos un análisis de sentimiento\n",
    "from vaderSentiment.vaderSentiment import SentimentIntensityAnalyzer\n",
    "\n",
    "# Definimos nuestro modelo\n",
    "analyzer = SentimentIntensityAnalyzer()\n",
    "\n",
    "# Creamos una función para detectar que emoticones y mensajes tomaria como sarcasmo o ironia\n",
    "def detectar_sarcasmo(texto):\n",
    "    marcadores_sarcasmo = [\n",
    "        '🎼','🐀','🥱','😂','🤦🏻‍♀️','🤭','🤦🏻‍♂️','🤦‍♀️','😏', 'claro', 'obviamente', 'como si', \"jajaja\", \"jaja\",\n",
    "        \"🙄\", \"😏\", \"🤔\", \"🤨\", \"🙃\", \"🤣\", \"😹\", \"😆\",\"😜\", \"😝\", \"🤪\", \"🥴\",\"🤷\", \"😒\", \"😑\", \"😬\",\n",
    "        \"👌\", \"💅\", \"🤡\", \"😎\", \"👏\", \"🥱\",\"🤦\", \"🤦‍♂️\", \"🤦‍♀️\", \"🤷‍♂️\", \"🤷‍♀️\", \"🥹\",\"claro que sí\", \"qué original\",\n",
    "        \"buenísimo\", \"perfecto\",\"me encanta\", \"excelente\", \"fabuloso\", \"maravilloso\",\"brillante\", \"asombroso\",\n",
    "        \"por supuesto\", \"cómo no\", \"seguro\", \"genial\", \"fantástico\", \"qué sorpresa\", \"qué emoción\",\"impresionante\",\n",
    "        \"todo bien\",\"gracias por nada\", \"era justo lo que necesitaba\",\"qué conveniente\", \"qué buena idea\", \"sí\",\n",
    "        \"sin comentarios\", \"no esperaba menos\", \"todo un éxito\"\n",
    "        ]\n",
    "    texto = texto.lower()\n",
    "    if any(marcador in texto for marcador in marcadores_sarcasmo):\n",
    "        return \"sarcasmo\"\n",
    "    return \"normal\"\n",
    "\n",
    "# Creamos otra función combinada para clasificar sentimiento y sarcasmo\n",
    "def clasificar_sentimiento_con_sarcasmo(texto):\n",
    "    sarcasmo = detectar_sarcasmo(texto)\n",
    "    if sarcasmo == \"sarcasmo\":\n",
    "        return \"sarcasmo\"\n",
    "    else:\n",
    "        puntaje = analyzer.polarity_scores(texto)\n",
    "        if puntaje['compound'] > 0.05:\n",
    "            return \"positivo\"\n",
    "        elif puntaje['compound'] < -0.05:\n",
    "            return \"negativo\"\n",
    "        else:\n",
    "            return \"neutral\"\n",
    "\n",
    "# Aplicamos la función a nuestro dataset\n",
    "df_publicaciones['clasificacion'] = df_publicaciones['Comentario'].apply(clasificar_sentimiento_con_sarcasmo)"
   ]
  },
  {
   "cell_type": "code",
   "execution_count": 48,
   "metadata": {},
   "outputs": [
    {
     "data": {
      "text/html": [
       "<div>\n",
       "<style scoped>\n",
       "    .dataframe tbody tr th:only-of-type {\n",
       "        vertical-align: middle;\n",
       "    }\n",
       "\n",
       "    .dataframe tbody tr th {\n",
       "        vertical-align: top;\n",
       "    }\n",
       "\n",
       "    .dataframe thead th {\n",
       "        text-align: right;\n",
       "    }\n",
       "</style>\n",
       "<table border=\"1\" class=\"dataframe\">\n",
       "  <thead>\n",
       "    <tr style=\"text-align: right;\">\n",
       "      <th></th>\n",
       "      <th>Publicacion</th>\n",
       "      <th>Id_posteo</th>\n",
       "      <th>Comentario</th>\n",
       "      <th>Fecha</th>\n",
       "      <th>Hora</th>\n",
       "      <th>Comentario_limpio</th>\n",
       "      <th>clasificacion</th>\n",
       "    </tr>\n",
       "  </thead>\n",
       "  <tbody>\n",
       "    <tr>\n",
       "      <th>20</th>\n",
       "      <td>El congresista aprista Jorge del Castillo seña...</td>\n",
       "      <td>71263708835_10157690605563836</td>\n",
       "      <td>🤭🤭🤭🤭 Estoy trabajando ese señor no me Pagará p...</td>\n",
       "      <td>2019-04-17</td>\n",
       "      <td>16:21:20</td>\n",
       "      <td>trabajando senor pagara hacer duelo</td>\n",
       "      <td>sarcasmo</td>\n",
       "    </tr>\n",
       "    <tr>\n",
       "      <th>24</th>\n",
       "      <td>Velorio del ex presidente Alan García en la Ca...</td>\n",
       "      <td>71263708835_377868469727477</td>\n",
       "      <td>🤨🤨🤨🤨.....mmmmmm</td>\n",
       "      <td>2019-04-19</td>\n",
       "      <td>09:16:15</td>\n",
       "      <td>mmmmmm</td>\n",
       "      <td>sarcasmo</td>\n",
       "    </tr>\n",
       "    <tr>\n",
       "      <th>29</th>\n",
       "      <td>🔴 #AHORA | El ex mandatario Ollanta Humala lle...</td>\n",
       "      <td>71263708835_10157694133878836</td>\n",
       "      <td>🤦🏻‍♂️🤦🏻‍♂️🤦🏻‍♂️🤦🏻‍♂️🤦🏻‍♂️ aprietas de mierda</td>\n",
       "      <td>2019-04-18</td>\n",
       "      <td>17:22:20</td>\n",
       "      <td>apristas mierda</td>\n",
       "      <td>sarcasmo</td>\n",
       "    </tr>\n",
       "    <tr>\n",
       "      <th>31</th>\n",
       "      <td>EN VIVO | Así se desarrolla el velatorio del e...</td>\n",
       "      <td>71263708835_1509825649150231</td>\n",
       "      <td>🤦🏻‍♀️🤦🏻‍♀️🤦🏻‍♀️ realmente un circo</td>\n",
       "      <td>2019-04-18</td>\n",
       "      <td>10:36:35</td>\n",
       "      <td>realmente circo</td>\n",
       "      <td>sarcasmo</td>\n",
       "    </tr>\n",
       "    <tr>\n",
       "      <th>35</th>\n",
       "      <td>Decenas de simpatizantes del Partido Aprista, ...</td>\n",
       "      <td>71263708835_10157691315508836</td>\n",
       "      <td>🤦‍♂️ Parfavar....... Que gente más figureti. S...</td>\n",
       "      <td>2019-04-18</td>\n",
       "      <td>19:12:45</td>\n",
       "      <td>parfavar gente mas figureti si extranaran sera...</td>\n",
       "      <td>sarcasmo</td>\n",
       "    </tr>\n",
       "    <tr>\n",
       "      <th>...</th>\n",
       "      <td>...</td>\n",
       "      <td>...</td>\n",
       "      <td>...</td>\n",
       "      <td>...</td>\n",
       "      <td>...</td>\n",
       "      <td>...</td>\n",
       "      <td>...</td>\n",
       "    </tr>\n",
       "    <tr>\n",
       "      <th>358</th>\n",
       "      <td>Retiran los restos de Alan García del aula mag...</td>\n",
       "      <td>71263708835_2408417565837425</td>\n",
       "      <td>Zorro viejo</td>\n",
       "      <td>2019-04-19</td>\n",
       "      <td>10:08:00</td>\n",
       "      <td>zorro viejo</td>\n",
       "      <td>neutral</td>\n",
       "    </tr>\n",
       "    <tr>\n",
       "      <th>359</th>\n",
       "      <td>El presentador de TV recordó la reunión privad...</td>\n",
       "      <td>71263708835_10157698813173836</td>\n",
       "      <td>Zoraida Rodríguez</td>\n",
       "      <td>2019-04-20</td>\n",
       "      <td>08:57:12</td>\n",
       "      <td>zoraida rodriguez</td>\n",
       "      <td>neutral</td>\n",
       "    </tr>\n",
       "    <tr>\n",
       "      <th>360</th>\n",
       "      <td>🚨 #CONFIRMADO: Erasmo Reyna, abogado de Alan G...</td>\n",
       "      <td>71263708835_10157689377373836</td>\n",
       "      <td>Zoila 😮</td>\n",
       "      <td>2019-04-17</td>\n",
       "      <td>08:00:12</td>\n",
       "      <td>zoila</td>\n",
       "      <td>neutral</td>\n",
       "    </tr>\n",
       "    <tr>\n",
       "      <th>361</th>\n",
       "      <td>🔴 #AHORA | El ex mandatario Ollanta Humala lle...</td>\n",
       "      <td>71263708835_10157694133878836</td>\n",
       "      <td>Zhark Camacho Rivera</td>\n",
       "      <td>2019-04-18</td>\n",
       "      <td>17:22:20</td>\n",
       "      <td>zhark camacho rivera</td>\n",
       "      <td>neutral</td>\n",
       "    </tr>\n",
       "    <tr>\n",
       "      <th>362</th>\n",
       "      <td>El féretro que lleva el cuerpo del ex presiden...</td>\n",
       "      <td>71263708835_567646733744707</td>\n",
       "      <td>Zd</td>\n",
       "      <td>2019-04-19</td>\n",
       "      <td>12:35:28</td>\n",
       "      <td>zd</td>\n",
       "      <td>neutral</td>\n",
       "    </tr>\n",
       "  </tbody>\n",
       "</table>\n",
       "<p>70 rows × 7 columns</p>\n",
       "</div>"
      ],
      "text/plain": [
       "                                           Publicacion  \\\n",
       "20   El congresista aprista Jorge del Castillo seña...   \n",
       "24   Velorio del ex presidente Alan García en la Ca...   \n",
       "29   🔴 #AHORA | El ex mandatario Ollanta Humala lle...   \n",
       "31   EN VIVO | Así se desarrolla el velatorio del e...   \n",
       "35   Decenas de simpatizantes del Partido Aprista, ...   \n",
       "..                                                 ...   \n",
       "358  Retiran los restos de Alan García del aula mag...   \n",
       "359  El presentador de TV recordó la reunión privad...   \n",
       "360  🚨 #CONFIRMADO: Erasmo Reyna, abogado de Alan G...   \n",
       "361  🔴 #AHORA | El ex mandatario Ollanta Humala lle...   \n",
       "362  El féretro que lleva el cuerpo del ex presiden...   \n",
       "\n",
       "                         Id_posteo  \\\n",
       "20   71263708835_10157690605563836   \n",
       "24     71263708835_377868469727477   \n",
       "29   71263708835_10157694133878836   \n",
       "31    71263708835_1509825649150231   \n",
       "35   71263708835_10157691315508836   \n",
       "..                             ...   \n",
       "358   71263708835_2408417565837425   \n",
       "359  71263708835_10157698813173836   \n",
       "360  71263708835_10157689377373836   \n",
       "361  71263708835_10157694133878836   \n",
       "362    71263708835_567646733744707   \n",
       "\n",
       "                                            Comentario      Fecha      Hora  \\\n",
       "20   🤭🤭🤭🤭 Estoy trabajando ese señor no me Pagará p... 2019-04-17  16:21:20   \n",
       "24                                     🤨🤨🤨🤨.....mmmmmm 2019-04-19  09:16:15   \n",
       "29        🤦🏻‍♂️🤦🏻‍♂️🤦🏻‍♂️🤦🏻‍♂️🤦🏻‍♂️ aprietas de mierda 2019-04-18  17:22:20   \n",
       "31                  🤦🏻‍♀️🤦🏻‍♀️🤦🏻‍♀️ realmente un circo 2019-04-18  10:36:35   \n",
       "35   🤦‍♂️ Parfavar....... Que gente más figureti. S... 2019-04-18  19:12:45   \n",
       "..                                                 ...        ...       ...   \n",
       "358                                        Zorro viejo 2019-04-19  10:08:00   \n",
       "359                                  Zoraida Rodríguez 2019-04-20  08:57:12   \n",
       "360                                            Zoila 😮 2019-04-17  08:00:12   \n",
       "361                               Zhark Camacho Rivera 2019-04-18  17:22:20   \n",
       "362                                                 Zd 2019-04-19  12:35:28   \n",
       "\n",
       "                                     Comentario_limpio clasificacion  \n",
       "20                 trabajando senor pagara hacer duelo      sarcasmo  \n",
       "24                                              mmmmmm      sarcasmo  \n",
       "29                                     apristas mierda      sarcasmo  \n",
       "31                                     realmente circo      sarcasmo  \n",
       "35   parfavar gente mas figureti si extranaran sera...      sarcasmo  \n",
       "..                                                 ...           ...  \n",
       "358                                        zorro viejo       neutral  \n",
       "359                                  zoraida rodriguez       neutral  \n",
       "360                                              zoila       neutral  \n",
       "361                               zhark camacho rivera       neutral  \n",
       "362                                                 zd       neutral  \n",
       "\n",
       "[70 rows x 7 columns]"
      ]
     },
     "execution_count": 48,
     "metadata": {},
     "output_type": "execute_result"
    }
   ],
   "source": [
    "# Vemos por última vez como va quedando nuestro dataset\n",
    "df_publicaciones.head(70)"
   ]
  },
  {
   "cell_type": "code",
   "execution_count": 49,
   "metadata": {},
   "outputs": [
    {
     "data": {
      "text/plain": [
       "clasificacion\n",
       "neutral     33307\n",
       "negativo    13127\n",
       "sarcasmo     5646\n",
       "positivo     2186\n",
       "Name: count, dtype: int64"
      ]
     },
     "execution_count": 49,
     "metadata": {},
     "output_type": "execute_result"
    }
   ],
   "source": [
    "#Analizamos cuales son las cantidades agrupadadas\n",
    "df_publicaciones.clasificacion.value_counts()"
   ]
  },
  {
   "cell_type": "code",
   "execution_count": 50,
   "metadata": {},
   "outputs": [
    {
     "name": "stdout",
     "output_type": "stream",
     "text": [
      "Archivo guardado exitosamente como 'Publicaciones1\n"
     ]
    }
   ],
   "source": [
    "# Guardar archivo CSV en la ruta especificada en tu computadora\n",
    "df_publicaciones.to_csv('Publicaciones.csv', index=False)\n",
    "\n",
    "print(f\"Archivo guardado exitosamente como 'Publicaciones1\")"
   ]
  }
 ],
 "metadata": {
  "kernelspec": {
   "display_name": "Python 3",
   "language": "python",
   "name": "python3"
  },
  "language_info": {
   "codemirror_mode": {
    "name": "ipython",
    "version": 3
   },
   "file_extension": ".py",
   "mimetype": "text/x-python",
   "name": "python",
   "nbconvert_exporter": "python",
   "pygments_lexer": "ipython3",
   "version": "3.11.9"
  }
 },
 "nbformat": 4,
 "nbformat_minor": 2
}
