{
 "cells": [
  {
   "cell_type": "markdown",
   "metadata": {},
   "source": [
    "Limpieza de datos"
   ]
  },
  {
   "cell_type": "code",
   "execution_count": 1,
   "metadata": {},
   "outputs": [],
   "source": [
    "# Importamos la librería pandas para el manejo y análisis de datos\n",
    "import pandas as pd\n",
    "\n",
    "#db_AGP_2019_sucesos.cvs : Hace referencia al detalle de la publicacion y las personas que comentaron. \n",
    "df = pd.read_csv(\"datasets/db_AGP_2019_sucesos.csv\", sep=\",\")\n",
    "\n",
    "#postID_suceso.cvs                   : Hace referencia al ID de la publicacion y el suceso que hubo.\n",
    "df1 = pd.read_csv(\"datasets/postID_suceso.csv\", sep=\",\")"
   ]
  },
  {
   "cell_type": "code",
   "execution_count": 2,
   "metadata": {},
   "outputs": [],
   "source": [
    "#Extrayendo la fecha de creación de cada publicación o post\n",
    "df['FECHA'] = df['FECHA Y HORA'].apply(lambda x: x.split()[0])\n",
    "#Extrayendo la hora de creación de cada publicación o post\n",
    "df['HORA'] = df['created_time.2'].apply(lambda x: x.split()[1])\n",
    "df = df.drop(['created_time.1','created_time.2','FECHA Y HORA'], axis=1)"
   ]
  },
  {
   "cell_type": "code",
   "execution_count": 3,
   "metadata": {},
   "outputs": [
    {
     "data": {
      "text/plain": [
       "0"
      ]
     },
     "execution_count": 3,
     "metadata": {},
     "output_type": "execute_result"
    }
   ],
   "source": [
    "#Veamos los nulos y duplicados\n",
    "df.isna().sum()\n",
    "# Eliminacion de filas duplicadas, el porcentaje de duplicados eran minimos un 15 % de total \n",
    "df = df.drop_duplicates(keep=False)  \n",
    "df.duplicated().sum()\n",
    "df1.isna().sum()\n",
    "df1.duplicated().sum()"
   ]
  },
  {
   "cell_type": "code",
   "execution_count": 4,
   "metadata": {},
   "outputs": [
    {
     "data": {
      "text/plain": [
       "message                                     0\n",
       "id                                          0\n",
       "object_link.connections.comments.message    0\n",
       "FECHA                                       0\n",
       "HORA                                        0\n",
       "dtype: int64"
      ]
     },
     "execution_count": 4,
     "metadata": {},
     "output_type": "execute_result"
    }
   ],
   "source": [
    "df.isna().sum()"
   ]
  },
  {
   "cell_type": "code",
   "execution_count": 5,
   "metadata": {},
   "outputs": [],
   "source": [
    "#Estandarización de nombres de columnas en los dos dataframes\n",
    "df = df.rename(columns={\n",
    "    'message': 'Publicacion',\n",
    "    'id': 'Id_posteo',\n",
    "    'object_link.connections.comments.message': 'Comentario',\n",
    "    'FECHA': 'Fecha',\n",
    "    'HORA': 'Hora'\n",
    "})\n",
    "\n",
    "df1 = df1.rename(columns={\n",
    "    'POST NRO': 'Id_posteo',\n",
    "    'SUCESO': 'Suceso'\n",
    "})"
   ]
  },
  {
   "cell_type": "code",
   "execution_count": 6,
   "metadata": {},
   "outputs": [
    {
     "data": {
      "text/html": [
       "<div>\n",
       "<style scoped>\n",
       "    .dataframe tbody tr th:only-of-type {\n",
       "        vertical-align: middle;\n",
       "    }\n",
       "\n",
       "    .dataframe tbody tr th {\n",
       "        vertical-align: top;\n",
       "    }\n",
       "\n",
       "    .dataframe thead th {\n",
       "        text-align: right;\n",
       "    }\n",
       "</style>\n",
       "<table border=\"1\" class=\"dataframe\">\n",
       "  <thead>\n",
       "    <tr style=\"text-align: right;\">\n",
       "      <th></th>\n",
       "      <th>Publicacion</th>\n",
       "      <th>Id_posteo</th>\n",
       "      <th>Comentario</th>\n",
       "      <th>Fecha</th>\n",
       "      <th>Hora</th>\n",
       "      <th>Suceso</th>\n",
       "    </tr>\n",
       "  </thead>\n",
       "  <tbody>\n",
       "    <tr>\n",
       "      <th>0</th>\n",
       "      <td>Velorio del ex presidente Alan García en la Ca...</td>\n",
       "      <td>71263708835_377868469727477</td>\n",
       "      <td>🧐🧐</td>\n",
       "      <td>19/04/2019</td>\n",
       "      <td>09:16:15</td>\n",
       "      <td>Lectura de Carta de AG</td>\n",
       "    </tr>\n",
       "  </tbody>\n",
       "</table>\n",
       "</div>"
      ],
      "text/plain": [
       "                                         Publicacion  \\\n",
       "0  Velorio del ex presidente Alan García en la Ca...   \n",
       "\n",
       "                     Id_posteo Comentario       Fecha      Hora  \\\n",
       "0  71263708835_377868469727477         🧐🧐  19/04/2019  09:16:15   \n",
       "\n",
       "                   Suceso  \n",
       "0  Lectura de Carta de AG  "
      ]
     },
     "execution_count": 6,
     "metadata": {},
     "output_type": "execute_result"
    }
   ],
   "source": [
    "#realice un inner join para tener toda mi data relacionada en un solo df\n",
    "data = pd.merge(df, df1, on='Id_posteo', how='inner')\n",
    "data.head(1)"
   ]
  },
  {
   "cell_type": "markdown",
   "metadata": {},
   "source": [
    "Exploracion de datos "
   ]
  },
  {
   "cell_type": "code",
   "execution_count": null,
   "metadata": {},
   "outputs": [
    {
     "data": {
      "text/plain": [
       "Suceso\n",
       "Confirmación de Muerte                 15398\n",
       "Velatorio Casa del Pueblo              13400\n",
       "Lectura de Carta de AG                  9072\n",
       "Confirmación de Intento de Suicidio     5598\n",
       "Ataud Sale del local APRA               3750\n",
       "Portadas del día                        2798\n",
       "Traslado a la Clinica                   2793\n",
       "dtype: int64"
      ]
     },
     "execution_count": 7,
     "metadata": {},
     "output_type": "execute_result"
    }
   ],
   "source": [
    "#Realizando algunas viusalizaciones de algunos campos\n",
    "# Contar ocurrencias por Suceso\n",
    "conteo_sucesos = data.groupby(\"Suceso\").size()\n",
    "\n",
    "# Ordenar los conteos en orden descendente\n",
    "conteo_sucesos_ordenado = conteo_sucesos.sort_values(ascending=False)\n",
    "conteo_sucesos_ordenado \n"
   ]
  },
  {
   "cell_type": "code",
   "execution_count": 8,
   "metadata": {},
   "outputs": [
    {
     "data": {
      "text/plain": [
       "Suceso\n",
       "Confirmación de Muerte                 28\n",
       "Velatorio Casa del Pueblo              22\n",
       "Ataud Sale del local APRA              11\n",
       "Lectura de Carta de AG                 11\n",
       "Portadas del día                        9\n",
       "Confirmación de Intento de Suicidio     5\n",
       "Traslado a la Clinica                   1\n",
       "dtype: int64"
      ]
     },
     "execution_count": 8,
     "metadata": {},
     "output_type": "execute_result"
    }
   ],
   "source": [
    "conteo_sucesos = df1.groupby(\"Suceso\").size()\n",
    "conteo_sucesos = conteo_sucesos.sort_values(ascending=False)\n",
    "conteo_sucesos \n"
   ]
  },
  {
   "cell_type": "code",
   "execution_count": 9,
   "metadata": {},
   "outputs": [],
   "source": [
    "# muestra = df['object_link.connections.comments.message'].sample(n=20)  # Obtiene 20 filas aleatorias de la columna\n",
    "# print(muestra)\n"
   ]
  },
  {
   "cell_type": "code",
   "execution_count": 10,
   "metadata": {},
   "outputs": [
    {
     "data": {
      "text/plain": [
       "(52809, 5)"
      ]
     },
     "execution_count": 10,
     "metadata": {},
     "output_type": "execute_result"
    }
   ],
   "source": [
    "# print(df.loc[1000:1020, 'object_link.connections.comments.message'])\n",
    "df.shape"
   ]
  },
  {
   "cell_type": "markdown",
   "metadata": {},
   "source": [
    "Realizando el Casteo de datos o transformazion de tipo de datos"
   ]
  },
  {
   "cell_type": "code",
   "execution_count": 11,
   "metadata": {},
   "outputs": [
    {
     "name": "stdout",
     "output_type": "stream",
     "text": [
      "Publicacion    string[python]\n",
      "Id_posteo      string[python]\n",
      "Comentario     string[python]\n",
      "Fecha          datetime64[ns]\n",
      "Hora                   object\n",
      "dtype: object\n"
     ]
    }
   ],
   "source": [
    "#tipo de datos a cada campo de los dfs\n",
    "df = df.rename(columns={\n",
    "    'message': 'Publicacion',\n",
    "    'id': 'Id_posteo',\n",
    "    'object_link.connections.comments.message': 'Comentario',\n",
    "    'FECHA': 'Fecha',\n",
    "    'HORA': 'Hora'\n",
    "})\n",
    "\n",
    "# Asegurar que las columnas de texto sean de tipo string\n",
    "df[\"Publicacion\"] = df[\"Publicacion\"].astype(\"string\")\n",
    "df[\"Id_posteo\"] = df[\"Id_posteo\"].astype(\"string\")\n",
    "df[\"Comentario\"] = df[\"Comentario\"].astype(\"string\")\n",
    "\n",
    "# Convertir Fecha y Hora\n",
    "df[\"Fecha\"] = pd.to_datetime(df[\"Fecha\"], dayfirst=True, errors=\"coerce\")  # Maneja valores no convertibles con NaT\n",
    "df[\"Hora\"] = pd.to_datetime(df[\"Hora\"], format=\"%H:%M:%S\", errors=\"coerce\").dt.time  # Extrae la parte de hora\n",
    "\n",
    "# Verificar los tipos de datos\n",
    "print(df.dtypes)\n",
    "# print(type(df[\"Hora\"].iloc[0]))"
   ]
  },
  {
   "cell_type": "code",
   "execution_count": 12,
   "metadata": {},
   "outputs": [
    {
     "name": "stdout",
     "output_type": "stream",
     "text": [
      "Id_posteo    string[python]\n",
      "Suceso       string[python]\n",
      "dtype: object\n"
     ]
    }
   ],
   "source": [
    "df1[\"Id_posteo\"] = df1[\"Id_posteo\"].astype(\"string\")\n",
    "df1[\"Suceso\"] = df1[\"Suceso\"].astype(\"string\")\n",
    "\n",
    "print(df1.dtypes)"
   ]
  },
  {
   "cell_type": "code",
   "execution_count": null,
   "metadata": {},
   "outputs": [],
   "source": [
    "#exportamos a csv los dfs ya limpios\n",
    "df.to_csv(\"Publicaciones.csv\", index=False)\n",
    "df1.to_csv(\"Sucesos.csv\", index=False)"
   ]
  },
  {
   "cell_type": "code",
   "execution_count": null,
   "metadata": {},
   "outputs": [],
   "source": [
    "#tmb exporto data, para luego explorarlos y comparar algunas cantidades \n",
    "#posteriormente con los dfs del power bi\n",
    "data.to_csv(\"data.csv\", index=False)\n",
    "data=pd.read_csv(\"data.csv\")"
   ]
  },
  {
   "cell_type": "code",
   "execution_count": null,
   "metadata": {},
   "outputs": [],
   "source": [
    "# data.head(50)"
   ]
  },
  {
   "cell_type": "code",
   "execution_count": null,
   "metadata": {},
   "outputs": [
    {
     "name": "stdout",
     "output_type": "stream",
     "text": [
      "Y para cuándo habriran el ataúd ?\n"
     ]
    }
   ],
   "source": [
    "random_value = data.sample(n=180).iloc[0]['Comentario']\n",
    "print(random_value)\n"
   ]
  },
  {
   "cell_type": "code",
   "execution_count": null,
   "metadata": {},
   "outputs": [
    {
     "data": {
      "text/plain": [
       "Comentario\n",
       "Esta vivo                                                                                                                                                                                                                                         13\n",
       "El partido aprista quiere cremar el supuesto cuerpo.\\r\\nCon esto se confirma la farsa que hay detrás de la supuesta muerte de la rata de Alan, el narcotraficante la mosca loca hizo lo mismo, fingió su muerte. Lean la historia coincidencia    13\n",
       "FALSO                                                                                                                                                                                                                                             11\n",
       "Cobarde                                                                                                                                                                                                                                           11\n",
       "El apra nunca muere                                                                                                                                                                                                                               11\n",
       "                                                                                                                                                                                                                                                  ..\n",
       "Están seguros que está dentro !!!!!!!                                                                                                                                                                                                              1\n",
       "Están seguros que hay un cadáver dentro de ese féretro?                                                                                                                                                                                            1\n",
       "Están seguros que su cuerpo está dentro de ese cajón o nos están mirando la cara👎😡🤢🤮🐀AG                                                                                                                                                            1\n",
       "Están velando a otro , abran el cajón !!!                                                                                                                                                                                                          1\n",
       "🧐🧐                                                                                                                                                                                                                                                 1\n",
       "Length: 50830, dtype: int64"
      ]
     },
     "execution_count": 106,
     "metadata": {},
     "output_type": "execute_result"
    }
   ],
   "source": [
    "conteo_publicaciones = data.groupby(\"Comentario\").size()\n",
    "conteo_publicaciones\n",
    "\n",
    "conteo_publicaciones = conteo_publicaciones.sort_values(ascending=False)\n",
    "conteo_publicaciones "
   ]
  }
 ],
 "metadata": {
  "kernelspec": {
   "display_name": "Python 3",
   "language": "python",
   "name": "python3"
  },
  "language_info": {
   "codemirror_mode": {
    "name": "ipython",
    "version": 3
   },
   "file_extension": ".py",
   "mimetype": "text/x-python",
   "name": "python",
   "nbconvert_exporter": "python",
   "pygments_lexer": "ipython3",
   "version": "3.11.9"
  }
 },
 "nbformat": 4,
 "nbformat_minor": 2
}
